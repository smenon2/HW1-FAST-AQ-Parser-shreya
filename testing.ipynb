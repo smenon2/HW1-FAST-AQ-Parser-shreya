{
 "cells": [
  {
   "cell_type": "code",
   "execution_count": 2,
   "id": "96d4db1b-444b-4da4-a7b1-a2dfe7ef12ad",
   "metadata": {},
   "outputs": [],
   "source": [
    "%load_ext autoreload\n",
    "%autoreload 2"
   ]
  },
  {
   "cell_type": "code",
   "execution_count": 27,
   "id": "4a0a0490-9626-4695-bb97-92b74e4a3c63",
   "metadata": {},
   "outputs": [],
   "source": [
    "from seqparser import *\n",
    "import pathlib"
   ]
  },
  {
   "cell_type": "code",
   "execution_count": 24,
   "id": "1aba1446-f2cf-4c7b-ab0b-043ca3b19257",
   "metadata": {},
   "outputs": [],
   "source": [
    "parser = FastqParser('data/test.fq')\n",
    "iter_parser = iter(parser)"
   ]
  },
  {
   "cell_type": "code",
   "execution_count": 25,
   "id": "56548596-6d81-402e-becf-b0547fd74e0d",
   "metadata": {},
   "outputs": [
    {
     "data": {
      "text/plain": [
       "('seq0',\n",
       " 'TGTGGTCGTATAGTTATTGTCATAAATTACACAGAATCGCGATTCTCCGCGTCCACCAATCTTAGTGCACCACAGCATCGACCCGATTTATGACGCTGAG',\n",
       " '*540($=*,=.062565,2>\\'487\\')!:&&6=,6,*7>:&132&83*8(58&59>\\'8!;28<94,0*;*.94**:9+7\"94(>7=\\'(!5\"2/!%\"4#32=')"
      ]
     },
     "execution_count": 25,
     "metadata": {},
     "output_type": "execute_result"
    }
   ],
   "source": [
    "next(iter_parser)"
   ]
  },
  {
   "cell_type": "code",
   "execution_count": 22,
   "id": "2e4a0ebe-ee14-4e33-9b78-97972eb1f3e9",
   "metadata": {},
   "outputs": [],
   "source": [
    "test_seqname, test_seq = next(iter_parser)"
   ]
  },
  {
   "cell_type": "code",
   "execution_count": 23,
   "id": "c3c5b873-cc38-4dce-af0f-9895c4af9eee",
   "metadata": {},
   "outputs": [
    {
     "data": {
      "text/plain": [
       "'seq3'"
      ]
     },
     "execution_count": 23,
     "metadata": {},
     "output_type": "execute_result"
    }
   ],
   "source": [
    "test_seqname"
   ]
  },
  {
   "cell_type": "code",
   "execution_count": 29,
   "id": "166934ad-6c81-4e98-aff5-94c89f6a701f",
   "metadata": {},
   "outputs": [
    {
     "ename": "ValueError",
     "evalue": "not enough values to unpack (expected 3, got 2)",
     "output_type": "error",
     "traceback": [
      "\u001b[0;31m---------------------------------------------------------------------------\u001b[0m",
      "\u001b[0;31mValueError\u001b[0m                                Traceback (most recent call last)",
      "Cell \u001b[0;32mIn[29], line 4\u001b[0m\n\u001b[1;32m      2\u001b[0m fastq_parser \u001b[38;5;241m=\u001b[39m FastaParser(fastq_file)\n\u001b[1;32m      3\u001b[0m iter_parser \u001b[38;5;241m=\u001b[39m \u001b[38;5;28miter\u001b[39m(fastq_parser)\n\u001b[0;32m----> 4\u001b[0m test_name, test_seq, test_qual \u001b[38;5;241m=\u001b[39m \u001b[38;5;28mnext\u001b[39m(iter_parser)\n",
      "\u001b[0;31mValueError\u001b[0m: not enough values to unpack (expected 3, got 2)"
     ]
    }
   ],
   "source": [
    "fastq_file = 'data/test.fq'\n",
    "fastq_parser = FastaParser(fastq_file)\n",
    "iter_parser = iter(fastq_parser)\n",
    "test_name, test_seq, test_qual = next(iter_parser)"
   ]
  },
  {
   "cell_type": "code",
   "execution_count": 33,
   "id": "7c7de700-a524-4548-8614-1306a0c2c304",
   "metadata": {},
   "outputs": [
    {
     "data": {
      "text/plain": [
       "(None,\n",
       " '*540($=*,=.062565,2>\\'487\\')!:&&6=,6,*7>:&132&83*8(58&59>\\'8!;28<94,0*;*.94**:9+7\"94(>7=\\'(!5\"2/!%\"4#32=')"
      ]
     },
     "execution_count": 33,
     "metadata": {},
     "output_type": "execute_result"
    }
   ],
   "source": [
    "next(iter_parser)"
   ]
  },
  {
   "cell_type": "code",
   "execution_count": null,
   "id": "04bf80c4-9807-4135-a19b-fe37dc0634e8",
   "metadata": {},
   "outputs": [],
   "source": []
  }
 ],
 "metadata": {
  "kernelspec": {
   "display_name": "Python 3 (ipykernel)",
   "language": "python",
   "name": "python3"
  },
  "language_info": {
   "codemirror_mode": {
    "name": "ipython",
    "version": 3
   },
   "file_extension": ".py",
   "mimetype": "text/x-python",
   "name": "python",
   "nbconvert_exporter": "python",
   "pygments_lexer": "ipython3",
   "version": "3.10.8"
  }
 },
 "nbformat": 4,
 "nbformat_minor": 5
}
